{
  "nbformat": 4,
  "nbformat_minor": 0,
  "metadata": {
    "colab": {
      "name": "Neo4j-ASDI-Sustainable-Public-Policies.ipynb",
      "provenance": [],
      "authorship_tag": "ABX9TyNxX5GJV7JtwAEkH7ZapUZZ",
      "include_colab_link": true
    },
    "kernelspec": {
      "name": "python3",
      "display_name": "Python 3"
    },
    "language_info": {
      "name": "python"
    }
  },
  "cells": [
    {
      "cell_type": "markdown",
      "metadata": {
        "id": "view-in-github",
        "colab_type": "text"
      },
      "source": [
        "<a href=\"https://colab.research.google.com/github/ekaropolus/recommender_and_graph_spp/blob/main/Neo4j_ASDI_Sustainable_Public_Policies.ipynb\" target=\"_parent\"><img src=\"https://colab.research.google.com/assets/colab-badge.svg\" alt=\"Open In Colab\"/></a>"
      ]
    },
    {
      "cell_type": "code",
      "execution_count": 1,
      "metadata": {
        "colab": {
          "base_uri": "https://localhost:8080/"
        },
        "id": "NEWBaS3l1mfK",
        "outputId": "d88eec7e-4b0c-42f1-f081-eb63ebd73d52"
      },
      "outputs": [
        {
          "output_type": "stream",
          "name": "stdout",
          "text": [
            "Looking in indexes: https://pypi.org/simple, https://us-python.pkg.dev/colab-wheels/public/simple/\n",
            "Collecting neo4j\n",
            "  Downloading neo4j-4.4.5.tar.gz (95 kB)\n",
            "\u001b[K     |████████████████████████████████| 95 kB 1.6 MB/s \n",
            "\u001b[?25hRequirement already satisfied: pytz in /usr/local/lib/python3.7/dist-packages (from neo4j) (2022.2.1)\n",
            "Building wheels for collected packages: neo4j\n",
            "  Building wheel for neo4j (setup.py) ... \u001b[?25l\u001b[?25hdone\n",
            "  Created wheel for neo4j: filename=neo4j-4.4.5-py3-none-any.whl size=123291 sha256=afeac510ca351ca4d73718e300639e16a5ce26b93fd8dd01342189071e5ce807\n",
            "  Stored in directory: /root/.cache/pip/wheels/73/62/2d/6532ffe9b1fdc65f04e7461279cda78fccaa67cf3c706e6e3d\n",
            "Successfully built neo4j\n",
            "Installing collected packages: neo4j\n",
            "Successfully installed neo4j-4.4.5\n"
          ]
        }
      ],
      "source": [
        "pip install neo4j"
      ]
    },
    {
      "cell_type": "code",
      "source": [
        "from neo4j import GraphDatabase\n",
        "import logging\n",
        "from neo4j.exceptions import ServiceUnavailable\n",
        "\n",
        "class App:\n",
        "\n",
        "    def __init__(self, uri, user, password):\n",
        "        self.driver = GraphDatabase.driver(uri, auth=(user, password))\n",
        "\n",
        "    def close(self):\n",
        "        # Don't forget to close the driver connection when you are finished with it\n",
        "        self.driver.close()\n",
        "\n",
        "    def create_friendship(self, person1_name, person2_name):\n",
        "        with self.driver.session(database=\"neo4j\") as session:\n",
        "            # Write transactions allow the driver to handle retries and transient errors\n",
        "            result = session.write_transaction(\n",
        "                self._create_and_return_friendship, person1_name, person2_name)\n",
        "            for row in result:\n",
        "                print(\"Created friendship between: {p1}, {p2}\".format(p1=row['p1'], p2=row['p2']))\n",
        "\n",
        "    @staticmethod\n",
        "    def _create_and_return_friendship(tx, person1_name, person2_name):\n",
        "        # To learn more about the Cypher syntax, see https://neo4j.com/docs/cypher-manual/current/\n",
        "        # The Reference Card is also a good resource for keywords https://neo4j.com/docs/cypher-refcard/current/\n",
        "        query = (\n",
        "            \"CREATE (p1:Person { name: $person1_name }) \"\n",
        "            \"CREATE (p2:Person { name: $person2_name }) \"\n",
        "            \"CREATE (p1)-[:KNOWS]->(p2) \"\n",
        "            \"RETURN p1, p2\"\n",
        "        )\n",
        "        result = tx.run(query, person1_name=person1_name, person2_name=person2_name)\n",
        "        try:\n",
        "            return [{\"p1\": row[\"p1\"][\"name\"], \"p2\": row[\"p2\"][\"name\"]}\n",
        "                    for row in result]\n",
        "        # Capture any errors along with the query and data for traceability\n",
        "        except ServiceUnavailable as exception:\n",
        "            logging.error(\"{query} raised an error: \\n {exception}\".format(\n",
        "                query=query, exception=exception))\n",
        "            raise\n",
        "\n",
        "    def find_public_policy(self):\n",
        "        with self.driver.session(database=\"neo4j\") as session:\n",
        "            result = session.read_transaction(self._find_and_return_public_policy)\n",
        "            for row in result:\n",
        "              print(row)\n",
        "\n",
        "    @staticmethod\n",
        "    def _find_and_return_public_policy(tx):\n",
        "        query = (\n",
        "            \"MATCH (n) \"\n",
        "            \"WHERE n.Country = 'MX' \"\n",
        "            \"RETURN n.PublicPolicyId as id, n.Level as group limit 10\"\n",
        "        )\n",
        "        result = tx.run(query)\n",
        "        return [(row[\"id\"],row[\"group\"]) for row in result]\n",
        "\n",
        "\n"
      ],
      "metadata": {
        "id": "chSBnDgd1qmo"
      },
      "execution_count": 69,
      "outputs": []
    },
    {
      "cell_type": "code",
      "source": [
        "# Aura queries use an encrypted connection using the \"neo4j+s\" URI scheme\n",
        "uri = \"neo4j+s://2c2e2321.databases.neo4j.io\"\n",
        "user = \"neo4j\"\n",
        "password = \"kPJiOCU2ekZYW7159DH_2-4-638msHWntxaWbRkxGVQ\"\n",
        "app = App(uri, user, password)\n"
      ],
      "metadata": {
        "id": "UAYao98v5NW5"
      },
      "execution_count": 70,
      "outputs": []
    },
    {
      "cell_type": "code",
      "source": [
        "app.find_public_policy()"
      ],
      "metadata": {
        "colab": {
          "base_uri": "https://localhost:8080/"
        },
        "id": "SDTg8F1014fQ",
        "outputId": "7ade1bcb-725f-4b70-deab-d2d02e9a2bcc"
      },
      "execution_count": 71,
      "outputs": [
        {
          "output_type": "stream",
          "name": "stdout",
          "text": [
            "('AG1', '1')\n",
            "('AG2', '1')\n",
            "('AG3', '1')\n",
            "('AG4', '1')\n",
            "('AG5', '1')\n",
            "('BC1', '1')\n",
            "('BC2', '1')\n",
            "('BC3', '1')\n",
            "('BC4', '1')\n",
            "('BC5', '1')\n"
          ]
        }
      ]
    },
    {
      "cell_type": "code",
      "source": [],
      "metadata": {
        "id": "ox62N2oP2IJh"
      },
      "execution_count": null,
      "outputs": []
    }
  ]
}