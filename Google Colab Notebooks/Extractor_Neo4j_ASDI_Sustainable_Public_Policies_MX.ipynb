{
 "cells": [
  {
   "cell_type": "markdown",
   "metadata": {
    "colab_type": "text",
    "id": "view-in-github"
   },
   "source": [
    "<a href=\"https://colab.research.google.com/github/ekaropolus/recommender_and_graph_spp/blob/main/Extractor_Neo4j_ASDI_Sustainable_Public_Policies_MX.ipynb\" target=\"_parent\"><img src=\"https://colab.research.google.com/assets/colab-badge.svg\" alt=\"Open In Colab\"/></a>"
   ]
  },
  {
   "cell_type": "code",
   "execution_count": 1,
   "metadata": {
    "colab": {
     "base_uri": "https://localhost:8080/"
    },
    "id": "NEWBaS3l1mfK",
    "outputId": "d88eec7e-4b0c-42f1-f081-eb63ebd73d52"
   },
   "outputs": [
    {
     "name": "stdout",
     "output_type": "stream",
     "text": [
      "Looking in indexes: https://pypi.org/simple, https://us-python.pkg.dev/colab-wheels/public/simple/\n",
      "Collecting neo4j\n",
      "  Downloading neo4j-4.4.5.tar.gz (95 kB)\n",
      "\u001b[K     |████████████████████████████████| 95 kB 1.6 MB/s \n",
      "\u001b[?25hRequirement already satisfied: pytz in /usr/local/lib/python3.7/dist-packages (from neo4j) (2022.2.1)\n",
      "Building wheels for collected packages: neo4j\n",
      "  Building wheel for neo4j (setup.py) ... \u001b[?25l\u001b[?25hdone\n",
      "  Created wheel for neo4j: filename=neo4j-4.4.5-py3-none-any.whl size=123291 sha256=afeac510ca351ca4d73718e300639e16a5ce26b93fd8dd01342189071e5ce807\n",
      "  Stored in directory: /root/.cache/pip/wheels/73/62/2d/6532ffe9b1fdc65f04e7461279cda78fccaa67cf3c706e6e3d\n",
      "Successfully built neo4j\n",
      "Installing collected packages: neo4j\n",
      "Successfully installed neo4j-4.4.5\n"
     ]
    }
   ],
   "source": [
    "pip install neo4j"
   ]
  },
  {
   "cell_type": "code",
   "execution_count": 129,
   "metadata": {
    "id": "chSBnDgd1qmo"
   },
   "outputs": [],
   "source": [
    "from neo4j import GraphDatabase\n",
    "import logging\n",
    "from neo4j.exceptions import ServiceUnavailable\n",
    "\n",
    "class App:\n",
    "\n",
    "    def __init__(self, uri, user, password):\n",
    "        self.driver = GraphDatabase.driver(uri, auth=(user, password))\n",
    "\n",
    "    def close(self):\n",
    "        # Don't forget to close the driver connection when you are finished with it\n",
    "        self.driver.close()\n",
    "\n",
    "    def find_public_policy(self):\n",
    "        with self.driver.session(database=\"neo4j\") as session:\n",
    "            result = session.read_transaction(self._find_and_return_public_policy)\n",
    "            return result\n",
    "\n",
    "    @staticmethod\n",
    "    def _find_and_return_public_policy(tx):\n",
    "        query = (\n",
    "            \"MATCH (n) \"\n",
    "            \"WHERE n.Country = 'MX' \"\n",
    "            \"RETURN n.PublicPolicyId as id, n.Level as group\"\n",
    "        )\n",
    "        result = tx.run(query)\n",
    "        return [(row[\"id\"],row[\"group\"]) for row in result]\n",
    "\n",
    "    def find_public_policy_relations(self):\n",
    "        with self.driver.session(database=\"neo4j\") as session:\n",
    "            result = session.read_transaction(self._find_and_return_public_policy_relations)\n",
    "            return result\n",
    "\n",
    "    @staticmethod\n",
    "    def _find_and_return_public_policy_relations(tx):\n",
    "        query = (\n",
    "            \"MATCH (n)-[r:DIVIDED_IN]->(m) \"\n",
    "            \"WHERE n.Country = 'MX' \"\n",
    "            \"RETURN n.PublicPolicyId as source, m.PublicPolicyId as target, (n.Level + m.Level) as value\"\n",
    "        )\n",
    "        result = tx.run(query)\n",
    "        return [(row[\"source\"],row[\"target\"],row[\"value\"]) for row in result]\n",
    "\n"
   ]
  },
  {
   "cell_type": "code",
   "execution_count": 130,
   "metadata": {
    "id": "UAYao98v5NW5"
   },
   "outputs": [],
   "source": [
    "# Aura queries use an encrypted connection using the \"neo4j+s\" URI scheme\n",
    "uri = \"neo4j+s://2c2e2321.databases.neo4j.io\"\n",
    "user = \"neo4j\"\n",
    "password = \"kPJiOCU2ekZYW7159DH_2-4-638msHWntxaWbRkxGVQ\"\n",
    "app = App(uri, user, password)\n"
   ]
  },
  {
   "cell_type": "code",
   "execution_count": 132,
   "metadata": {
    "id": "SDTg8F1014fQ"
   },
   "outputs": [],
   "source": [
    "li_pp_result = app.find_public_policy()\n",
    "li_pp_relations_result = app.find_public_policy_relations()"
   ]
  },
  {
   "cell_type": "code",
   "execution_count": null,
   "metadata": {
    "id": "3CEjC50ttduh"
   },
   "outputs": [],
   "source": [
    "for row in li_pp_result:\n",
    "  print(row)\n",
    "\n",
    "for row in li_pp_relations_result:\n",
    "  print(row)"
   ]
  },
  {
   "cell_type": "code",
   "execution_count": 134,
   "metadata": {
    "id": "cjSCRWD5qZdn"
   },
   "outputs": [],
   "source": [
    "di_dummy = {}\n",
    "li_nodes = []\n",
    "for row in li_pp_result:\n",
    "  di_dummy = {}\n",
    "  di_dummy[\"id\"] = row[0]\n",
    "  di_dummy[\"group\"] = row[1]\n",
    "  li_nodes.append(di_dummy)\n",
    "\n",
    "li_relations = []\n",
    "for row in li_pp_relations_result:\n",
    "  di_dummy = {}\n",
    "  di_dummy[\"source\"] = row[0]\n",
    "  di_dummy[\"target\"] = row[1]\n",
    "  di_dummy[\"value\"] = row[2]\n",
    "  li_relations.append(di_dummy)"
   ]
  },
  {
   "cell_type": "code",
   "execution_count": null,
   "metadata": {
    "id": "uU0i_NDss7pH"
   },
   "outputs": [],
   "source": [
    "li_nodes"
   ]
  },
  {
   "cell_type": "code",
   "execution_count": null,
   "metadata": {
    "id": "Fa4z7k5Pw3rg"
   },
   "outputs": [],
   "source": [
    "li_relations\n"
   ]
  },
  {
   "cell_type": "code",
   "execution_count": 137,
   "metadata": {
    "id": "ox62N2oP2IJh"
   },
   "outputs": [],
   "source": [
    "di_pp_view = {}"
   ]
  },
  {
   "cell_type": "code",
   "execution_count": 138,
   "metadata": {
    "id": "Raj1HzK0tK23"
   },
   "outputs": [],
   "source": [
    "di_pp_view[\"nodes\"] = li_nodes\n",
    "di_pp_view[\"links\"] = li_relations"
   ]
  },
  {
   "cell_type": "code",
   "execution_count": null,
   "metadata": {
    "id": "xm0lNz67r8ew"
   },
   "outputs": [],
   "source": [
    "di_pp_view"
   ]
  },
  {
   "cell_type": "code",
   "execution_count": 140,
   "metadata": {
    "id": "I2-A8T_VsCd3"
   },
   "outputs": [],
   "source": [
    "import pickle\n"
   ]
  },
  {
   "cell_type": "code",
   "execution_count": 142,
   "metadata": {
    "id": "3myfJ0oFqRcQ"
   },
   "outputs": [],
   "source": [
    "f = open(\"dict.txt\",\"w\")\n",
    "\n",
    "# write file\n",
    "f.write( str(di_pp_view) )\n",
    "\n",
    "# close file\n",
    "f.close()"
   ]
  },
  {
   "cell_type": "code",
   "execution_count": 143,
   "metadata": {
    "id": "QpU0FLJTxmaL"
   },
   "outputs": [],
   "source": [
    "app.close()"
   ]
  },
  {
   "cell_type": "code",
   "execution_count": null,
   "metadata": {
    "id": "hUeA-f87-UAX"
   },
   "outputs": [],
   "source": []
  }
 ],
 "metadata": {
  "colab": {
   "authorship_tag": "ABX9TyNWmbY+bbjuHP5aOJzePlaX",
   "include_colab_link": true,
   "name": "Extractor-Neo4j-ASDI-Sustainable-Public-Policies_MX.ipynb",
   "provenance": []
  },
  "kernelspec": {
   "display_name": "default:Python",
   "language": "python",
   "name": "conda-env-default-py"
  },
  "language_info": {
   "codemirror_mode": {
    "name": "ipython",
    "version": 3
   },
   "file_extension": ".py",
   "mimetype": "text/x-python",
   "name": "python",
   "nbconvert_exporter": "python",
   "pygments_lexer": "ipython3",
   "version": "3.9.13"
  }
 },
 "nbformat": 4,
 "nbformat_minor": 4
}
