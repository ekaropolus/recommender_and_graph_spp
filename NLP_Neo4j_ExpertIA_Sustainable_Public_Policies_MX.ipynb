{
  "nbformat": 4,
  "nbformat_minor": 0,
  "metadata": {
    "colab": {
      "provenance": [],
      "toc_visible": true,
      "mount_file_id": "1c0R820UPtvZKLBemZ0jMTYhdjzkouhXB",
      "authorship_tag": "ABX9TyManCDO5SRGCx3N3Ik++1xD",
      "include_colab_link": true
    },
    "kernelspec": {
      "name": "python3",
      "display_name": "Python 3"
    },
    "language_info": {
      "name": "python"
    }
  },
  "cells": [
    {
      "cell_type": "markdown",
      "metadata": {
        "id": "view-in-github",
        "colab_type": "text"
      },
      "source": [
        "<a href=\"https://colab.research.google.com/github/ekaropolus/recommender_and_graph_spp/blob/main/NLP_Neo4j_ExpertIA_Sustainable_Public_Policies_MX.ipynb\" target=\"_parent\"><img src=\"https://colab.research.google.com/assets/colab-badge.svg\" alt=\"Open In Colab\"/></a>"
      ]
    },
    {
      "cell_type": "code",
      "execution_count": 3,
      "metadata": {
        "colab": {
          "base_uri": "https://localhost:8080/"
        },
        "id": "NEWBaS3l1mfK",
        "outputId": "86a5875a-a356-4211-d813-8ab9ef512191"
      },
      "outputs": [
        {
          "output_type": "stream",
          "name": "stdout",
          "text": [
            "Looking in indexes: https://pypi.org/simple, https://us-python.pkg.dev/colab-wheels/public/simple/\n",
            "Collecting neo4j\n",
            "  Downloading neo4j-5.1.0.tar.gz (173 kB)\n",
            "\u001b[K     |████████████████████████████████| 173 kB 31.8 MB/s \n",
            "\u001b[?25hRequirement already satisfied: pytz in /usr/local/lib/python3.7/dist-packages (from neo4j) (2022.4)\n",
            "Building wheels for collected packages: neo4j\n",
            "  Building wheel for neo4j (setup.py) ... \u001b[?25l\u001b[?25hdone\n",
            "  Created wheel for neo4j: filename=neo4j-5.1.0-py3-none-any.whl size=248097 sha256=869ea581622d5cbe948bd4d17ed3eb62f335133e90bb4ccc0414ac499f60be56\n",
            "  Stored in directory: /root/.cache/pip/wheels/64/96/da/c30ec8577a970eadecc436103fbcbf7af1d6398d0ebe32cbab\n",
            "Successfully built neo4j\n",
            "Installing collected packages: neo4j\n",
            "Successfully installed neo4j-5.1.0\n",
            "Looking in indexes: https://pypi.org/simple, https://us-python.pkg.dev/colab-wheels/public/simple/\n",
            "Collecting expertai-nlapi\n",
            "  Downloading expertai_nlapi-2.4.1-py3-none-any.whl (97 kB)\n",
            "\u001b[K     |████████████████████████████████| 97 kB 5.2 MB/s \n",
            "\u001b[?25hRequirement already satisfied: requests in /usr/local/lib/python3.7/dist-packages (from expertai-nlapi) (2.23.0)\n",
            "Requirement already satisfied: chardet<4,>=3.0.2 in /usr/local/lib/python3.7/dist-packages (from requests->expertai-nlapi) (3.0.4)\n",
            "Requirement already satisfied: urllib3!=1.25.0,!=1.25.1,<1.26,>=1.21.1 in /usr/local/lib/python3.7/dist-packages (from requests->expertai-nlapi) (1.24.3)\n",
            "Requirement already satisfied: certifi>=2017.4.17 in /usr/local/lib/python3.7/dist-packages (from requests->expertai-nlapi) (2022.9.24)\n",
            "Requirement already satisfied: idna<3,>=2.5 in /usr/local/lib/python3.7/dist-packages (from requests->expertai-nlapi) (2.10)\n",
            "Installing collected packages: expertai-nlapi\n",
            "Successfully installed expertai-nlapi-2.4.1\n"
          ]
        }
      ],
      "source": [
        "! pip install neo4j\n",
        "! pip install expertai-nlapi"
      ]
    },
    {
      "cell_type": "code",
      "source": [
        "from neo4j import GraphDatabase\n",
        "import logging\n",
        "from neo4j.exceptions import ServiceUnavailable\n",
        "import pandas as pd\n",
        "import json\n",
        "import os\n",
        "from expertai.nlapi.cloud.client import ExpertAiClient\n"
      ],
      "metadata": {
        "id": "u3dOXxdkvNgq"
      },
      "execution_count": 4,
      "outputs": []
    },
    {
      "cell_type": "code",
      "source": [
        "\n",
        "class App:\n",
        "\n",
        "    def __init__(self, uri, user, password):\n",
        "        self.driver = GraphDatabase.driver(uri, auth=(user, password))\n",
        "\n",
        "    def close(self):\n",
        "        # Don't forget to close the driver connection when you are finished with it\n",
        "        self.driver.close()\n",
        "\n",
        "    def find_public_policy(self):\n",
        "        with self.driver.session(database=\"neo4j\") as session:\n",
        "            result = session.read_transaction(self._find_and_return_public_policy)\n",
        "            return result\n",
        "\n",
        "    @staticmethod\n",
        "    def _find_and_return_public_policy(tx):\n",
        "        query = (\n",
        "            \"MATCH (n) \"\n",
        "            \"WHERE n.Country = 'MX' \"\n",
        "            \"RETURN n.PublicPolicyId as id, n.Level as group, n.Description as description\"\n",
        "        )\n",
        "        result = tx.run(query)\n",
        "        return [{\"id\":row[\"id\"],\"group\":row[\"group\"],\"description\":row[\"description\"].lower()} for row in result]\n",
        "\n",
        "    def find_public_policy_relations(self):\n",
        "        with self.driver.session(database=\"neo4j\") as session:\n",
        "            result = session.read_transaction(self._find_and_return_public_policy_relations)\n",
        "            return result\n",
        "\n",
        "    @staticmethod\n",
        "    def _find_and_return_public_policy_relations(tx):\n",
        "        query = (\n",
        "            \"MATCH (n)-[r:DIVIDED_IN]->(m) \"\n",
        "            \"WHERE n.Country = 'MX' \"\n",
        "            \"RETURN n.PublicPolicyId as source, m.PublicPolicyId as target, (n.Level + m.Level) as value\"\n",
        "        )\n",
        "        result = tx.run(query)\n",
        "        return [(row[\"source\"],row[\"target\"],row[\"value\"]) for row in result]\n",
        "\n"
      ],
      "metadata": {
        "id": "chSBnDgd1qmo"
      },
      "execution_count": 5,
      "outputs": []
    },
    {
      "cell_type": "code",
      "source": [
        "# Aura queries use an encrypted connection using the \"neo4j+s\" URI scheme\n",
        "uri = \"neo4j+s://2c2e2321.databases.neo4j.io\"\n",
        "user = \"neo4j\"\n",
        "password = \"kPJiOCU2ekZYW7159DH_2-4-638msHWntxaWbRkxGVQ\"\n",
        "app = App(uri, user, password)\n"
      ],
      "metadata": {
        "id": "UAYao98v5NW5"
      },
      "execution_count": 6,
      "outputs": []
    },
    {
      "cell_type": "code",
      "source": [
        "os.environ[\"EAI_USERNAME\"] = 'hi@hadox.org'\n",
        "os.environ[\"EAI_PASSWORD\"] = 'RYD.Lq5Et4nT4T4'\n",
        "client = ExpertAiClient()\n",
        "language= 'es'"
      ],
      "metadata": {
        "id": "pXVMuDR1vrby"
      },
      "execution_count": 7,
      "outputs": []
    },
    {
      "cell_type": "code",
      "source": [
        "li_pp_result = app.find_public_policy()\n",
        "#li_pp_relations_result = app.find_public_policy_relations()"
      ],
      "metadata": {
        "id": "SDTg8F1014fQ",
        "colab": {
          "base_uri": "https://localhost:8080/"
        },
        "outputId": "427b2ea3-e054-4efa-807e-e5d1f8896d04"
      },
      "execution_count": null,
      "outputs": [
        {
          "output_type": "stream",
          "name": "stderr",
          "text": [
            "/usr/local/lib/python3.7/dist-packages/ipykernel_launcher.py:12: DeprecationWarning: read_transaction has been renamed to execute_read\n",
            "  if sys.path[0] == '':\n"
          ]
        }
      ]
    },
    {
      "cell_type": "code",
      "source": [
        "print(len(li_pp_result))"
      ],
      "metadata": {
        "colab": {
          "base_uri": "https://localhost:8080/"
        },
        "id": "eSwNpEFbSdmC",
        "outputId": "3da08767-aa0b-42a6-c7c5-397b969a96a3"
      },
      "execution_count": null,
      "outputs": [
        {
          "output_type": "stream",
          "name": "stdout",
          "text": [
            "2172\n"
          ]
        }
      ]
    },
    {
      "cell_type": "code",
      "source": [
        "iter = 0\n",
        "for x in li_pp_result:\n",
        "  iter = iter + 1\n",
        "  text = x[\"description\"]\n",
        "  output = client.full_analysis(body={\"document\": {\"text\": text}}, params={'language': language})\n",
        "  lemmas = []\n",
        "  for y in output.main_lemmas:\n",
        "    lemma ={\"value\":y.value,\"score\":y.score}\n",
        "    lemmas.append(lemma)\n",
        "\n",
        "  lemmas_json = json.dumps(lemmas, indent=2)\n",
        "  x[\"lemmas\"] = lemmas #lemmas_json\n",
        "  \n",
        "  syncons = []\n",
        "  for z in output.main_syncons:\n",
        "    syncon ={\"lemma\":z.lemma,\"score\":z.score}\n",
        "    syncons.append(syncon)\n",
        "\n",
        "  syncons_json = json.dumps(syncons, indent=2)\n",
        "  x[\"syncons\"] = syncons #syncons_json\n",
        "  "
      ],
      "metadata": {
        "id": "OZOoIIYYukbJ"
      },
      "execution_count": null,
      "outputs": []
    },
    {
      "cell_type": "code",
      "source": [
        "for x in li_pp_result:\n",
        "  for y in x[\"lemmas\"]:\n",
        "    y[\"id\"] = x[\"id\"]\n",
        "  for y in x[\"syncons\"]:\n",
        "    y[\"id\"] = x[\"id\"]\n"
      ],
      "metadata": {
        "id": "c_NMpXlCDisc"
      },
      "execution_count": null,
      "outputs": []
    },
    {
      "cell_type": "code",
      "source": [
        "df_pp = pd.DataFrame.from_dict(li_pp_result)"
      ],
      "metadata": {
        "id": "k3x03eSaS7QJ"
      },
      "execution_count": null,
      "outputs": []
    },
    {
      "cell_type": "code",
      "source": [
        "df_pp.head()"
      ],
      "metadata": {
        "colab": {
          "base_uri": "https://localhost:8080/",
          "height": 337
        },
        "id": "UEWU8rYgTByp",
        "outputId": "1ecc9d31-9d2d-41b1-a94c-df4e87bdcd59"
      },
      "execution_count": null,
      "outputs": [
        {
          "output_type": "execute_result",
          "data": {
            "text/plain": [
              "    id group                                        description  \\\n",
              "0  AG1     1  i. aguascalientes educado, integrado y equitativo   \n",
              "1  AG2     1         ii. aguascalientes derecho, seguro y libre   \n",
              "2  AG3     1  iii. aguascalientes con gobierno íntegro, aust...   \n",
              "3  AG4     1  iv. aguascalientes competitivo, diversificado ...   \n",
              "4  AG5     1  v. aguascalientes responsable, sostenible y li...   \n",
              "\n",
              "                                              lemmas  \\\n",
              "0  [{'value': 'educado', 'score': 44.09, 'id': 'A...   \n",
              "1  [{'value': 'ii. aguascalientes', 'score': 99.0...   \n",
              "2  [{'value': 'gobierno', 'score': 46.59, 'id': '...   \n",
              "3  [{'value': 'diversificado', 'score': 43.79, 'i...   \n",
              "4  [{'value': 'v. aguascalientes', 'score': 90.19...   \n",
              "\n",
              "                                             syncons  \n",
              "0  [{'lemma': 'cortés', 'score': 43.09, 'id': 'AG...  \n",
              "1  [{'lemma': 'derecho', 'score': 5.69, 'id': 'AG...  \n",
              "2  [{'lemma': 'ministerio', 'score': 51.59, 'id':...  \n",
              "3  [{'lemma': 'diversificado', 'score': 43.29, 'i...  \n",
              "4  [{'lemma': 'diligente', 'score': 6.5, 'id': 'A...  "
            ],
            "text/html": [
              "\n",
              "  <div id=\"df-4cc69bbc-fd9f-4af8-9fdd-46ac489308f1\">\n",
              "    <div class=\"colab-df-container\">\n",
              "      <div>\n",
              "<style scoped>\n",
              "    .dataframe tbody tr th:only-of-type {\n",
              "        vertical-align: middle;\n",
              "    }\n",
              "\n",
              "    .dataframe tbody tr th {\n",
              "        vertical-align: top;\n",
              "    }\n",
              "\n",
              "    .dataframe thead th {\n",
              "        text-align: right;\n",
              "    }\n",
              "</style>\n",
              "<table border=\"1\" class=\"dataframe\">\n",
              "  <thead>\n",
              "    <tr style=\"text-align: right;\">\n",
              "      <th></th>\n",
              "      <th>id</th>\n",
              "      <th>group</th>\n",
              "      <th>description</th>\n",
              "      <th>lemmas</th>\n",
              "      <th>syncons</th>\n",
              "    </tr>\n",
              "  </thead>\n",
              "  <tbody>\n",
              "    <tr>\n",
              "      <th>0</th>\n",
              "      <td>AG1</td>\n",
              "      <td>1</td>\n",
              "      <td>i. aguascalientes educado, integrado y equitativo</td>\n",
              "      <td>[{'value': 'educado', 'score': 44.09, 'id': 'A...</td>\n",
              "      <td>[{'lemma': 'cortés', 'score': 43.09, 'id': 'AG...</td>\n",
              "    </tr>\n",
              "    <tr>\n",
              "      <th>1</th>\n",
              "      <td>AG2</td>\n",
              "      <td>1</td>\n",
              "      <td>ii. aguascalientes derecho, seguro y libre</td>\n",
              "      <td>[{'value': 'ii. aguascalientes', 'score': 99.0...</td>\n",
              "      <td>[{'lemma': 'derecho', 'score': 5.69, 'id': 'AG...</td>\n",
              "    </tr>\n",
              "    <tr>\n",
              "      <th>2</th>\n",
              "      <td>AG3</td>\n",
              "      <td>1</td>\n",
              "      <td>iii. aguascalientes con gobierno íntegro, aust...</td>\n",
              "      <td>[{'value': 'gobierno', 'score': 46.59, 'id': '...</td>\n",
              "      <td>[{'lemma': 'ministerio', 'score': 51.59, 'id':...</td>\n",
              "    </tr>\n",
              "    <tr>\n",
              "      <th>3</th>\n",
              "      <td>AG4</td>\n",
              "      <td>1</td>\n",
              "      <td>iv. aguascalientes competitivo, diversificado ...</td>\n",
              "      <td>[{'value': 'diversificado', 'score': 43.79, 'i...</td>\n",
              "      <td>[{'lemma': 'diversificado', 'score': 43.29, 'i...</td>\n",
              "    </tr>\n",
              "    <tr>\n",
              "      <th>4</th>\n",
              "      <td>AG5</td>\n",
              "      <td>1</td>\n",
              "      <td>v. aguascalientes responsable, sostenible y li...</td>\n",
              "      <td>[{'value': 'v. aguascalientes', 'score': 90.19...</td>\n",
              "      <td>[{'lemma': 'diligente', 'score': 6.5, 'id': 'A...</td>\n",
              "    </tr>\n",
              "  </tbody>\n",
              "</table>\n",
              "</div>\n",
              "      <button class=\"colab-df-convert\" onclick=\"convertToInteractive('df-4cc69bbc-fd9f-4af8-9fdd-46ac489308f1')\"\n",
              "              title=\"Convert this dataframe to an interactive table.\"\n",
              "              style=\"display:none;\">\n",
              "        \n",
              "  <svg xmlns=\"http://www.w3.org/2000/svg\" height=\"24px\"viewBox=\"0 0 24 24\"\n",
              "       width=\"24px\">\n",
              "    <path d=\"M0 0h24v24H0V0z\" fill=\"none\"/>\n",
              "    <path d=\"M18.56 5.44l.94 2.06.94-2.06 2.06-.94-2.06-.94-.94-2.06-.94 2.06-2.06.94zm-11 1L8.5 8.5l.94-2.06 2.06-.94-2.06-.94L8.5 2.5l-.94 2.06-2.06.94zm10 10l.94 2.06.94-2.06 2.06-.94-2.06-.94-.94-2.06-.94 2.06-2.06.94z\"/><path d=\"M17.41 7.96l-1.37-1.37c-.4-.4-.92-.59-1.43-.59-.52 0-1.04.2-1.43.59L10.3 9.45l-7.72 7.72c-.78.78-.78 2.05 0 2.83L4 21.41c.39.39.9.59 1.41.59.51 0 1.02-.2 1.41-.59l7.78-7.78 2.81-2.81c.8-.78.8-2.07 0-2.86zM5.41 20L4 18.59l7.72-7.72 1.47 1.35L5.41 20z\"/>\n",
              "  </svg>\n",
              "      </button>\n",
              "      \n",
              "  <style>\n",
              "    .colab-df-container {\n",
              "      display:flex;\n",
              "      flex-wrap:wrap;\n",
              "      gap: 12px;\n",
              "    }\n",
              "\n",
              "    .colab-df-convert {\n",
              "      background-color: #E8F0FE;\n",
              "      border: none;\n",
              "      border-radius: 50%;\n",
              "      cursor: pointer;\n",
              "      display: none;\n",
              "      fill: #1967D2;\n",
              "      height: 32px;\n",
              "      padding: 0 0 0 0;\n",
              "      width: 32px;\n",
              "    }\n",
              "\n",
              "    .colab-df-convert:hover {\n",
              "      background-color: #E2EBFA;\n",
              "      box-shadow: 0px 1px 2px rgba(60, 64, 67, 0.3), 0px 1px 3px 1px rgba(60, 64, 67, 0.15);\n",
              "      fill: #174EA6;\n",
              "    }\n",
              "\n",
              "    [theme=dark] .colab-df-convert {\n",
              "      background-color: #3B4455;\n",
              "      fill: #D2E3FC;\n",
              "    }\n",
              "\n",
              "    [theme=dark] .colab-df-convert:hover {\n",
              "      background-color: #434B5C;\n",
              "      box-shadow: 0px 1px 3px 1px rgba(0, 0, 0, 0.15);\n",
              "      filter: drop-shadow(0px 1px 2px rgba(0, 0, 0, 0.3));\n",
              "      fill: #FFFFFF;\n",
              "    }\n",
              "  </style>\n",
              "\n",
              "      <script>\n",
              "        const buttonEl =\n",
              "          document.querySelector('#df-4cc69bbc-fd9f-4af8-9fdd-46ac489308f1 button.colab-df-convert');\n",
              "        buttonEl.style.display =\n",
              "          google.colab.kernel.accessAllowed ? 'block' : 'none';\n",
              "\n",
              "        async function convertToInteractive(key) {\n",
              "          const element = document.querySelector('#df-4cc69bbc-fd9f-4af8-9fdd-46ac489308f1');\n",
              "          const dataTable =\n",
              "            await google.colab.kernel.invokeFunction('convertToInteractive',\n",
              "                                                     [key], {});\n",
              "          if (!dataTable) return;\n",
              "\n",
              "          const docLinkHtml = 'Like what you see? Visit the ' +\n",
              "            '<a target=\"_blank\" href=https://colab.research.google.com/notebooks/data_table.ipynb>data table notebook</a>'\n",
              "            + ' to learn more about interactive tables.';\n",
              "          element.innerHTML = '';\n",
              "          dataTable['output_type'] = 'display_data';\n",
              "          await google.colab.output.renderOutput(dataTable, element);\n",
              "          const docLink = document.createElement('div');\n",
              "          docLink.innerHTML = docLinkHtml;\n",
              "          element.appendChild(docLink);\n",
              "        }\n",
              "      </script>\n",
              "    </div>\n",
              "  </div>\n",
              "  "
            ]
          },
          "metadata": {},
          "execution_count": 64
        }
      ]
    },
    {
      "cell_type": "code",
      "source": [
        "%cd /content/drive/MyDrive/Proyectos 2022/01 Hackahton Expert.ia Neurolitks"
      ],
      "metadata": {
        "colab": {
          "base_uri": "https://localhost:8080/"
        },
        "id": "5cjn61xh2XYf",
        "outputId": "35a49d65-181f-4671-94cb-22b6d2b52d96"
      },
      "execution_count": null,
      "outputs": [
        {
          "output_type": "stream",
          "name": "stdout",
          "text": [
            "/content/drive/MyDrive/Proyectos 2022/01 Hackahton Expert.ia Neurolitks\n"
          ]
        }
      ]
    },
    {
      "cell_type": "code",
      "source": [
        "\n",
        "df_pp.to_parquet('df_pp_2.parquet.gzip',\n",
        "              compression='gzip')  "
      ],
      "metadata": {
        "id": "O4Y-3VoJbs-_"
      },
      "execution_count": null,
      "outputs": []
    },
    {
      "cell_type": "code",
      "source": [
        "df_pp.to_csv(\"df_pp_2.csv\",index=False)"
      ],
      "metadata": {
        "id": "5mtyuOQ56Pjw"
      },
      "execution_count": null,
      "outputs": []
    },
    {
      "cell_type": "code",
      "source": [
        "from itertools import chain\n",
        "df_lemmas = pd.DataFrame(list(chain.from_iterable(df_pp[\"lemmas\"])))"
      ],
      "metadata": {
        "id": "J2Y15bY59v61"
      },
      "execution_count": null,
      "outputs": []
    },
    {
      "cell_type": "code",
      "source": [
        "df_lemmas.head()"
      ],
      "metadata": {
        "colab": {
          "base_uri": "https://localhost:8080/",
          "height": 206
        },
        "id": "JBtZxWTe-o1V",
        "outputId": "b5ff6184-eb1e-4021-fa73-0d2e89a824ab"
      },
      "execution_count": null,
      "outputs": [
        {
          "output_type": "execute_result",
          "data": {
            "text/plain": [
              "                value  score   id\n",
              "0             educado  44.09  AG1\n",
              "1           integrado  38.59  AG1\n",
              "2          equitativo  15.10  AG1\n",
              "3  ii. aguascalientes  99.00  AG2\n",
              "4            gobierno  46.59  AG3"
            ],
            "text/html": [
              "\n",
              "  <div id=\"df-4eb1dfe4-0895-44ca-a675-9f333fceba6e\">\n",
              "    <div class=\"colab-df-container\">\n",
              "      <div>\n",
              "<style scoped>\n",
              "    .dataframe tbody tr th:only-of-type {\n",
              "        vertical-align: middle;\n",
              "    }\n",
              "\n",
              "    .dataframe tbody tr th {\n",
              "        vertical-align: top;\n",
              "    }\n",
              "\n",
              "    .dataframe thead th {\n",
              "        text-align: right;\n",
              "    }\n",
              "</style>\n",
              "<table border=\"1\" class=\"dataframe\">\n",
              "  <thead>\n",
              "    <tr style=\"text-align: right;\">\n",
              "      <th></th>\n",
              "      <th>value</th>\n",
              "      <th>score</th>\n",
              "      <th>id</th>\n",
              "    </tr>\n",
              "  </thead>\n",
              "  <tbody>\n",
              "    <tr>\n",
              "      <th>0</th>\n",
              "      <td>educado</td>\n",
              "      <td>44.09</td>\n",
              "      <td>AG1</td>\n",
              "    </tr>\n",
              "    <tr>\n",
              "      <th>1</th>\n",
              "      <td>integrado</td>\n",
              "      <td>38.59</td>\n",
              "      <td>AG1</td>\n",
              "    </tr>\n",
              "    <tr>\n",
              "      <th>2</th>\n",
              "      <td>equitativo</td>\n",
              "      <td>15.10</td>\n",
              "      <td>AG1</td>\n",
              "    </tr>\n",
              "    <tr>\n",
              "      <th>3</th>\n",
              "      <td>ii. aguascalientes</td>\n",
              "      <td>99.00</td>\n",
              "      <td>AG2</td>\n",
              "    </tr>\n",
              "    <tr>\n",
              "      <th>4</th>\n",
              "      <td>gobierno</td>\n",
              "      <td>46.59</td>\n",
              "      <td>AG3</td>\n",
              "    </tr>\n",
              "  </tbody>\n",
              "</table>\n",
              "</div>\n",
              "      <button class=\"colab-df-convert\" onclick=\"convertToInteractive('df-4eb1dfe4-0895-44ca-a675-9f333fceba6e')\"\n",
              "              title=\"Convert this dataframe to an interactive table.\"\n",
              "              style=\"display:none;\">\n",
              "        \n",
              "  <svg xmlns=\"http://www.w3.org/2000/svg\" height=\"24px\"viewBox=\"0 0 24 24\"\n",
              "       width=\"24px\">\n",
              "    <path d=\"M0 0h24v24H0V0z\" fill=\"none\"/>\n",
              "    <path d=\"M18.56 5.44l.94 2.06.94-2.06 2.06-.94-2.06-.94-.94-2.06-.94 2.06-2.06.94zm-11 1L8.5 8.5l.94-2.06 2.06-.94-2.06-.94L8.5 2.5l-.94 2.06-2.06.94zm10 10l.94 2.06.94-2.06 2.06-.94-2.06-.94-.94-2.06-.94 2.06-2.06.94z\"/><path d=\"M17.41 7.96l-1.37-1.37c-.4-.4-.92-.59-1.43-.59-.52 0-1.04.2-1.43.59L10.3 9.45l-7.72 7.72c-.78.78-.78 2.05 0 2.83L4 21.41c.39.39.9.59 1.41.59.51 0 1.02-.2 1.41-.59l7.78-7.78 2.81-2.81c.8-.78.8-2.07 0-2.86zM5.41 20L4 18.59l7.72-7.72 1.47 1.35L5.41 20z\"/>\n",
              "  </svg>\n",
              "      </button>\n",
              "      \n",
              "  <style>\n",
              "    .colab-df-container {\n",
              "      display:flex;\n",
              "      flex-wrap:wrap;\n",
              "      gap: 12px;\n",
              "    }\n",
              "\n",
              "    .colab-df-convert {\n",
              "      background-color: #E8F0FE;\n",
              "      border: none;\n",
              "      border-radius: 50%;\n",
              "      cursor: pointer;\n",
              "      display: none;\n",
              "      fill: #1967D2;\n",
              "      height: 32px;\n",
              "      padding: 0 0 0 0;\n",
              "      width: 32px;\n",
              "    }\n",
              "\n",
              "    .colab-df-convert:hover {\n",
              "      background-color: #E2EBFA;\n",
              "      box-shadow: 0px 1px 2px rgba(60, 64, 67, 0.3), 0px 1px 3px 1px rgba(60, 64, 67, 0.15);\n",
              "      fill: #174EA6;\n",
              "    }\n",
              "\n",
              "    [theme=dark] .colab-df-convert {\n",
              "      background-color: #3B4455;\n",
              "      fill: #D2E3FC;\n",
              "    }\n",
              "\n",
              "    [theme=dark] .colab-df-convert:hover {\n",
              "      background-color: #434B5C;\n",
              "      box-shadow: 0px 1px 3px 1px rgba(0, 0, 0, 0.15);\n",
              "      filter: drop-shadow(0px 1px 2px rgba(0, 0, 0, 0.3));\n",
              "      fill: #FFFFFF;\n",
              "    }\n",
              "  </style>\n",
              "\n",
              "      <script>\n",
              "        const buttonEl =\n",
              "          document.querySelector('#df-4eb1dfe4-0895-44ca-a675-9f333fceba6e button.colab-df-convert');\n",
              "        buttonEl.style.display =\n",
              "          google.colab.kernel.accessAllowed ? 'block' : 'none';\n",
              "\n",
              "        async function convertToInteractive(key) {\n",
              "          const element = document.querySelector('#df-4eb1dfe4-0895-44ca-a675-9f333fceba6e');\n",
              "          const dataTable =\n",
              "            await google.colab.kernel.invokeFunction('convertToInteractive',\n",
              "                                                     [key], {});\n",
              "          if (!dataTable) return;\n",
              "\n",
              "          const docLinkHtml = 'Like what you see? Visit the ' +\n",
              "            '<a target=\"_blank\" href=https://colab.research.google.com/notebooks/data_table.ipynb>data table notebook</a>'\n",
              "            + ' to learn more about interactive tables.';\n",
              "          element.innerHTML = '';\n",
              "          dataTable['output_type'] = 'display_data';\n",
              "          await google.colab.output.renderOutput(dataTable, element);\n",
              "          const docLink = document.createElement('div');\n",
              "          docLink.innerHTML = docLinkHtml;\n",
              "          element.appendChild(docLink);\n",
              "        }\n",
              "      </script>\n",
              "    </div>\n",
              "  </div>\n",
              "  "
            ]
          },
          "metadata": {},
          "execution_count": 68
        }
      ]
    },
    {
      "cell_type": "code",
      "source": [
        "df_syncons = pd.DataFrame(list(chain.from_iterable(df_pp[\"syncons\"])))"
      ],
      "metadata": {
        "id": "yBrEjLF1Retv"
      },
      "execution_count": null,
      "outputs": []
    },
    {
      "cell_type": "code",
      "source": [
        "df_syncons.head()"
      ],
      "metadata": {
        "colab": {
          "base_uri": "https://localhost:8080/",
          "height": 206
        },
        "id": "-DtCNkd6Rpin",
        "outputId": "b86c99db-2426-43d6-b283-f02906d5fcb4"
      },
      "execution_count": null,
      "outputs": [
        {
          "output_type": "execute_result",
          "data": {
            "text/plain": [
              "       lemma  score   id\n",
              "0     cortés  43.09  AG1\n",
              "1  integrado  38.40  AG1\n",
              "2      justo  15.69  AG1\n",
              "3    derecho   5.69  AG2\n",
              "4     cierto   5.40  AG2"
            ],
            "text/html": [
              "\n",
              "  <div id=\"df-01a05f74-0607-4860-8f9f-2f46f444e415\">\n",
              "    <div class=\"colab-df-container\">\n",
              "      <div>\n",
              "<style scoped>\n",
              "    .dataframe tbody tr th:only-of-type {\n",
              "        vertical-align: middle;\n",
              "    }\n",
              "\n",
              "    .dataframe tbody tr th {\n",
              "        vertical-align: top;\n",
              "    }\n",
              "\n",
              "    .dataframe thead th {\n",
              "        text-align: right;\n",
              "    }\n",
              "</style>\n",
              "<table border=\"1\" class=\"dataframe\">\n",
              "  <thead>\n",
              "    <tr style=\"text-align: right;\">\n",
              "      <th></th>\n",
              "      <th>lemma</th>\n",
              "      <th>score</th>\n",
              "      <th>id</th>\n",
              "    </tr>\n",
              "  </thead>\n",
              "  <tbody>\n",
              "    <tr>\n",
              "      <th>0</th>\n",
              "      <td>cortés</td>\n",
              "      <td>43.09</td>\n",
              "      <td>AG1</td>\n",
              "    </tr>\n",
              "    <tr>\n",
              "      <th>1</th>\n",
              "      <td>integrado</td>\n",
              "      <td>38.40</td>\n",
              "      <td>AG1</td>\n",
              "    </tr>\n",
              "    <tr>\n",
              "      <th>2</th>\n",
              "      <td>justo</td>\n",
              "      <td>15.69</td>\n",
              "      <td>AG1</td>\n",
              "    </tr>\n",
              "    <tr>\n",
              "      <th>3</th>\n",
              "      <td>derecho</td>\n",
              "      <td>5.69</td>\n",
              "      <td>AG2</td>\n",
              "    </tr>\n",
              "    <tr>\n",
              "      <th>4</th>\n",
              "      <td>cierto</td>\n",
              "      <td>5.40</td>\n",
              "      <td>AG2</td>\n",
              "    </tr>\n",
              "  </tbody>\n",
              "</table>\n",
              "</div>\n",
              "      <button class=\"colab-df-convert\" onclick=\"convertToInteractive('df-01a05f74-0607-4860-8f9f-2f46f444e415')\"\n",
              "              title=\"Convert this dataframe to an interactive table.\"\n",
              "              style=\"display:none;\">\n",
              "        \n",
              "  <svg xmlns=\"http://www.w3.org/2000/svg\" height=\"24px\"viewBox=\"0 0 24 24\"\n",
              "       width=\"24px\">\n",
              "    <path d=\"M0 0h24v24H0V0z\" fill=\"none\"/>\n",
              "    <path d=\"M18.56 5.44l.94 2.06.94-2.06 2.06-.94-2.06-.94-.94-2.06-.94 2.06-2.06.94zm-11 1L8.5 8.5l.94-2.06 2.06-.94-2.06-.94L8.5 2.5l-.94 2.06-2.06.94zm10 10l.94 2.06.94-2.06 2.06-.94-2.06-.94-.94-2.06-.94 2.06-2.06.94z\"/><path d=\"M17.41 7.96l-1.37-1.37c-.4-.4-.92-.59-1.43-.59-.52 0-1.04.2-1.43.59L10.3 9.45l-7.72 7.72c-.78.78-.78 2.05 0 2.83L4 21.41c.39.39.9.59 1.41.59.51 0 1.02-.2 1.41-.59l7.78-7.78 2.81-2.81c.8-.78.8-2.07 0-2.86zM5.41 20L4 18.59l7.72-7.72 1.47 1.35L5.41 20z\"/>\n",
              "  </svg>\n",
              "      </button>\n",
              "      \n",
              "  <style>\n",
              "    .colab-df-container {\n",
              "      display:flex;\n",
              "      flex-wrap:wrap;\n",
              "      gap: 12px;\n",
              "    }\n",
              "\n",
              "    .colab-df-convert {\n",
              "      background-color: #E8F0FE;\n",
              "      border: none;\n",
              "      border-radius: 50%;\n",
              "      cursor: pointer;\n",
              "      display: none;\n",
              "      fill: #1967D2;\n",
              "      height: 32px;\n",
              "      padding: 0 0 0 0;\n",
              "      width: 32px;\n",
              "    }\n",
              "\n",
              "    .colab-df-convert:hover {\n",
              "      background-color: #E2EBFA;\n",
              "      box-shadow: 0px 1px 2px rgba(60, 64, 67, 0.3), 0px 1px 3px 1px rgba(60, 64, 67, 0.15);\n",
              "      fill: #174EA6;\n",
              "    }\n",
              "\n",
              "    [theme=dark] .colab-df-convert {\n",
              "      background-color: #3B4455;\n",
              "      fill: #D2E3FC;\n",
              "    }\n",
              "\n",
              "    [theme=dark] .colab-df-convert:hover {\n",
              "      background-color: #434B5C;\n",
              "      box-shadow: 0px 1px 3px 1px rgba(0, 0, 0, 0.15);\n",
              "      filter: drop-shadow(0px 1px 2px rgba(0, 0, 0, 0.3));\n",
              "      fill: #FFFFFF;\n",
              "    }\n",
              "  </style>\n",
              "\n",
              "      <script>\n",
              "        const buttonEl =\n",
              "          document.querySelector('#df-01a05f74-0607-4860-8f9f-2f46f444e415 button.colab-df-convert');\n",
              "        buttonEl.style.display =\n",
              "          google.colab.kernel.accessAllowed ? 'block' : 'none';\n",
              "\n",
              "        async function convertToInteractive(key) {\n",
              "          const element = document.querySelector('#df-01a05f74-0607-4860-8f9f-2f46f444e415');\n",
              "          const dataTable =\n",
              "            await google.colab.kernel.invokeFunction('convertToInteractive',\n",
              "                                                     [key], {});\n",
              "          if (!dataTable) return;\n",
              "\n",
              "          const docLinkHtml = 'Like what you see? Visit the ' +\n",
              "            '<a target=\"_blank\" href=https://colab.research.google.com/notebooks/data_table.ipynb>data table notebook</a>'\n",
              "            + ' to learn more about interactive tables.';\n",
              "          element.innerHTML = '';\n",
              "          dataTable['output_type'] = 'display_data';\n",
              "          await google.colab.output.renderOutput(dataTable, element);\n",
              "          const docLink = document.createElement('div');\n",
              "          docLink.innerHTML = docLinkHtml;\n",
              "          element.appendChild(docLink);\n",
              "        }\n",
              "      </script>\n",
              "    </div>\n",
              "  </div>\n",
              "  "
            ]
          },
          "metadata": {},
          "execution_count": 70
        }
      ]
    },
    {
      "cell_type": "code",
      "source": [
        "df_lemmas[\"value\"].value_counts().to_csv(\"values_lemas.csv\")"
      ],
      "metadata": {
        "id": "Cpva21B0B_3t"
      },
      "execution_count": null,
      "outputs": []
    },
    {
      "cell_type": "code",
      "source": [
        "df_syncons[\"lemma\"].value_counts().to_csv(\"lemma_syncons.csv\")"
      ],
      "metadata": {
        "id": "WiNnLghJShYJ"
      },
      "execution_count": null,
      "outputs": []
    },
    {
      "cell_type": "code",
      "source": [
        "  text = \"Tiene dos propósitos: El primero, hacia la inclusión social. Es decir, hacia una cultura que promocione, reconozca, garantice o restituya los derechos y deberes de las personas con discapacidad y sus familias. La inclusión social implica acceder, disponer, aportar y transformar las condiciones que determinan la desigualdad. Implica también, reconocer y hacer uso de los recursos conceptuales, técnicos y metodológicos que contribuyen a reconstruir los lazos sociales y culturales para disfrutar de la vida y de la ciudad.                                                       El segundo propósito, hacia la calidad de vida con dignidad. Es decir, hacia la búsqueda del bienestar de las personas con discapacidad –PCD-, sus familias, cuidadoras y cuidadores, mediante la satisfacción de necesidades que permitan conseguir una vida digna y libre desde las perspectivas: humana, social\"\n",
        "  output = client.full_analysis(body={\"document\": {\"text\": text}}, params={'language': language})"
      ],
      "metadata": {
        "id": "hUeA-f87-UAX"
      },
      "execution_count": 8,
      "outputs": []
    },
    {
      "cell_type": "code",
      "source": [
        "output.main_lemmas"
      ],
      "metadata": {
        "colab": {
          "base_uri": "https://localhost:8080/"
        },
        "id": "VPnJAhTmsAlS",
        "outputId": "1e6cdb08-f1d1-42e3-eefc-d79289abc428"
      },
      "execution_count": 11,
      "outputs": [
        {
          "output_type": "execute_result",
          "data": {
            "text/plain": [
              "[<expertai.nlapi.common.model.main_lemma.MainLemma at 0x7fa915e25910>,\n",
              " <expertai.nlapi.common.model.main_lemma.MainLemma at 0x7fa915e25950>,\n",
              " <expertai.nlapi.common.model.main_lemma.MainLemma at 0x7fa915e25a10>,\n",
              " <expertai.nlapi.common.model.main_lemma.MainLemma at 0x7fa915e25ad0>,\n",
              " <expertai.nlapi.common.model.main_lemma.MainLemma at 0x7fa915e25b90>,\n",
              " <expertai.nlapi.common.model.main_lemma.MainLemma at 0x7fa915e25cd0>,\n",
              " <expertai.nlapi.common.model.main_lemma.MainLemma at 0x7fa915e25d10>]"
            ]
          },
          "metadata": {},
          "execution_count": 11
        }
      ]
    },
    {
      "cell_type": "code",
      "source": [
        "df = pd.DataFrame([vars(f) for f in output.main_lemmas])"
      ],
      "metadata": {
        "id": "tEmu-JQssIDi"
      },
      "execution_count": 12,
      "outputs": []
    },
    {
      "cell_type": "code",
      "source": [
        "df"
      ],
      "metadata": {
        "colab": {
          "base_uri": "https://localhost:8080/",
          "height": 269
        },
        "id": "8igStI1ftc8q",
        "outputId": "338d80b7-3d1c-4834-c147-3611e583a96f"
      },
      "execution_count": 13,
      "outputs": [
        {
          "output_type": "execute_result",
          "data": {
            "text/plain": [
              "         _value  _score                                         _positions\n",
              "0     propósito   14.69  [<expertai.nlapi.common.model.position.Positio...\n",
              "1     inclusión   11.89  [<expertai.nlapi.common.model.position.Positio...\n",
              "2  discapacidad    8.39  [<expertai.nlapi.common.model.position.Positio...\n",
              "3         deber    7.69  [<expertai.nlapi.common.model.position.Positio...\n",
              "4   condiciones    6.90  [<expertai.nlapi.common.model.position.Positio...\n",
              "5     necesidad    6.69  [<expertai.nlapi.common.model.position.Positio...\n",
              "6     bienestar    6.30  [<expertai.nlapi.common.model.position.Positio..."
            ],
            "text/html": [
              "\n",
              "  <div id=\"df-47dd26a5-066b-413f-9d98-16cc2098fd03\">\n",
              "    <div class=\"colab-df-container\">\n",
              "      <div>\n",
              "<style scoped>\n",
              "    .dataframe tbody tr th:only-of-type {\n",
              "        vertical-align: middle;\n",
              "    }\n",
              "\n",
              "    .dataframe tbody tr th {\n",
              "        vertical-align: top;\n",
              "    }\n",
              "\n",
              "    .dataframe thead th {\n",
              "        text-align: right;\n",
              "    }\n",
              "</style>\n",
              "<table border=\"1\" class=\"dataframe\">\n",
              "  <thead>\n",
              "    <tr style=\"text-align: right;\">\n",
              "      <th></th>\n",
              "      <th>_value</th>\n",
              "      <th>_score</th>\n",
              "      <th>_positions</th>\n",
              "    </tr>\n",
              "  </thead>\n",
              "  <tbody>\n",
              "    <tr>\n",
              "      <th>0</th>\n",
              "      <td>propósito</td>\n",
              "      <td>14.69</td>\n",
              "      <td>[&lt;expertai.nlapi.common.model.position.Positio...</td>\n",
              "    </tr>\n",
              "    <tr>\n",
              "      <th>1</th>\n",
              "      <td>inclusión</td>\n",
              "      <td>11.89</td>\n",
              "      <td>[&lt;expertai.nlapi.common.model.position.Positio...</td>\n",
              "    </tr>\n",
              "    <tr>\n",
              "      <th>2</th>\n",
              "      <td>discapacidad</td>\n",
              "      <td>8.39</td>\n",
              "      <td>[&lt;expertai.nlapi.common.model.position.Positio...</td>\n",
              "    </tr>\n",
              "    <tr>\n",
              "      <th>3</th>\n",
              "      <td>deber</td>\n",
              "      <td>7.69</td>\n",
              "      <td>[&lt;expertai.nlapi.common.model.position.Positio...</td>\n",
              "    </tr>\n",
              "    <tr>\n",
              "      <th>4</th>\n",
              "      <td>condiciones</td>\n",
              "      <td>6.90</td>\n",
              "      <td>[&lt;expertai.nlapi.common.model.position.Positio...</td>\n",
              "    </tr>\n",
              "    <tr>\n",
              "      <th>5</th>\n",
              "      <td>necesidad</td>\n",
              "      <td>6.69</td>\n",
              "      <td>[&lt;expertai.nlapi.common.model.position.Positio...</td>\n",
              "    </tr>\n",
              "    <tr>\n",
              "      <th>6</th>\n",
              "      <td>bienestar</td>\n",
              "      <td>6.30</td>\n",
              "      <td>[&lt;expertai.nlapi.common.model.position.Positio...</td>\n",
              "    </tr>\n",
              "  </tbody>\n",
              "</table>\n",
              "</div>\n",
              "      <button class=\"colab-df-convert\" onclick=\"convertToInteractive('df-47dd26a5-066b-413f-9d98-16cc2098fd03')\"\n",
              "              title=\"Convert this dataframe to an interactive table.\"\n",
              "              style=\"display:none;\">\n",
              "        \n",
              "  <svg xmlns=\"http://www.w3.org/2000/svg\" height=\"24px\"viewBox=\"0 0 24 24\"\n",
              "       width=\"24px\">\n",
              "    <path d=\"M0 0h24v24H0V0z\" fill=\"none\"/>\n",
              "    <path d=\"M18.56 5.44l.94 2.06.94-2.06 2.06-.94-2.06-.94-.94-2.06-.94 2.06-2.06.94zm-11 1L8.5 8.5l.94-2.06 2.06-.94-2.06-.94L8.5 2.5l-.94 2.06-2.06.94zm10 10l.94 2.06.94-2.06 2.06-.94-2.06-.94-.94-2.06-.94 2.06-2.06.94z\"/><path d=\"M17.41 7.96l-1.37-1.37c-.4-.4-.92-.59-1.43-.59-.52 0-1.04.2-1.43.59L10.3 9.45l-7.72 7.72c-.78.78-.78 2.05 0 2.83L4 21.41c.39.39.9.59 1.41.59.51 0 1.02-.2 1.41-.59l7.78-7.78 2.81-2.81c.8-.78.8-2.07 0-2.86zM5.41 20L4 18.59l7.72-7.72 1.47 1.35L5.41 20z\"/>\n",
              "  </svg>\n",
              "      </button>\n",
              "      \n",
              "  <style>\n",
              "    .colab-df-container {\n",
              "      display:flex;\n",
              "      flex-wrap:wrap;\n",
              "      gap: 12px;\n",
              "    }\n",
              "\n",
              "    .colab-df-convert {\n",
              "      background-color: #E8F0FE;\n",
              "      border: none;\n",
              "      border-radius: 50%;\n",
              "      cursor: pointer;\n",
              "      display: none;\n",
              "      fill: #1967D2;\n",
              "      height: 32px;\n",
              "      padding: 0 0 0 0;\n",
              "      width: 32px;\n",
              "    }\n",
              "\n",
              "    .colab-df-convert:hover {\n",
              "      background-color: #E2EBFA;\n",
              "      box-shadow: 0px 1px 2px rgba(60, 64, 67, 0.3), 0px 1px 3px 1px rgba(60, 64, 67, 0.15);\n",
              "      fill: #174EA6;\n",
              "    }\n",
              "\n",
              "    [theme=dark] .colab-df-convert {\n",
              "      background-color: #3B4455;\n",
              "      fill: #D2E3FC;\n",
              "    }\n",
              "\n",
              "    [theme=dark] .colab-df-convert:hover {\n",
              "      background-color: #434B5C;\n",
              "      box-shadow: 0px 1px 3px 1px rgba(0, 0, 0, 0.15);\n",
              "      filter: drop-shadow(0px 1px 2px rgba(0, 0, 0, 0.3));\n",
              "      fill: #FFFFFF;\n",
              "    }\n",
              "  </style>\n",
              "\n",
              "      <script>\n",
              "        const buttonEl =\n",
              "          document.querySelector('#df-47dd26a5-066b-413f-9d98-16cc2098fd03 button.colab-df-convert');\n",
              "        buttonEl.style.display =\n",
              "          google.colab.kernel.accessAllowed ? 'block' : 'none';\n",
              "\n",
              "        async function convertToInteractive(key) {\n",
              "          const element = document.querySelector('#df-47dd26a5-066b-413f-9d98-16cc2098fd03');\n",
              "          const dataTable =\n",
              "            await google.colab.kernel.invokeFunction('convertToInteractive',\n",
              "                                                     [key], {});\n",
              "          if (!dataTable) return;\n",
              "\n",
              "          const docLinkHtml = 'Like what you see? Visit the ' +\n",
              "            '<a target=\"_blank\" href=https://colab.research.google.com/notebooks/data_table.ipynb>data table notebook</a>'\n",
              "            + ' to learn more about interactive tables.';\n",
              "          element.innerHTML = '';\n",
              "          dataTable['output_type'] = 'display_data';\n",
              "          await google.colab.output.renderOutput(dataTable, element);\n",
              "          const docLink = document.createElement('div');\n",
              "          docLink.innerHTML = docLinkHtml;\n",
              "          element.appendChild(docLink);\n",
              "        }\n",
              "      </script>\n",
              "    </div>\n",
              "  </div>\n",
              "  "
            ]
          },
          "metadata": {},
          "execution_count": 13
        }
      ]
    },
    {
      "cell_type": "code",
      "source": [
        "fields = ['value', 'score']\n",
        "df = pd.DataFrame([{fn: getattr(f, fn) for fn in fields} for f in output.main_lemmas])"
      ],
      "metadata": {
        "id": "TgHL11kPtdkB"
      },
      "execution_count": 14,
      "outputs": []
    },
    {
      "cell_type": "code",
      "source": [
        "df"
      ],
      "metadata": {
        "colab": {
          "base_uri": "https://localhost:8080/",
          "height": 269
        },
        "id": "ycB_-QzptqzB",
        "outputId": "0c74940b-b763-435e-becf-af2747ea802e"
      },
      "execution_count": 15,
      "outputs": [
        {
          "output_type": "execute_result",
          "data": {
            "text/plain": [
              "          value  score\n",
              "0     propósito  14.69\n",
              "1     inclusión  11.89\n",
              "2  discapacidad   8.39\n",
              "3         deber   7.69\n",
              "4   condiciones   6.90\n",
              "5     necesidad   6.69\n",
              "6     bienestar   6.30"
            ],
            "text/html": [
              "\n",
              "  <div id=\"df-04c43bf3-eabb-47e9-92a1-8414fc39c91e\">\n",
              "    <div class=\"colab-df-container\">\n",
              "      <div>\n",
              "<style scoped>\n",
              "    .dataframe tbody tr th:only-of-type {\n",
              "        vertical-align: middle;\n",
              "    }\n",
              "\n",
              "    .dataframe tbody tr th {\n",
              "        vertical-align: top;\n",
              "    }\n",
              "\n",
              "    .dataframe thead th {\n",
              "        text-align: right;\n",
              "    }\n",
              "</style>\n",
              "<table border=\"1\" class=\"dataframe\">\n",
              "  <thead>\n",
              "    <tr style=\"text-align: right;\">\n",
              "      <th></th>\n",
              "      <th>value</th>\n",
              "      <th>score</th>\n",
              "    </tr>\n",
              "  </thead>\n",
              "  <tbody>\n",
              "    <tr>\n",
              "      <th>0</th>\n",
              "      <td>propósito</td>\n",
              "      <td>14.69</td>\n",
              "    </tr>\n",
              "    <tr>\n",
              "      <th>1</th>\n",
              "      <td>inclusión</td>\n",
              "      <td>11.89</td>\n",
              "    </tr>\n",
              "    <tr>\n",
              "      <th>2</th>\n",
              "      <td>discapacidad</td>\n",
              "      <td>8.39</td>\n",
              "    </tr>\n",
              "    <tr>\n",
              "      <th>3</th>\n",
              "      <td>deber</td>\n",
              "      <td>7.69</td>\n",
              "    </tr>\n",
              "    <tr>\n",
              "      <th>4</th>\n",
              "      <td>condiciones</td>\n",
              "      <td>6.90</td>\n",
              "    </tr>\n",
              "    <tr>\n",
              "      <th>5</th>\n",
              "      <td>necesidad</td>\n",
              "      <td>6.69</td>\n",
              "    </tr>\n",
              "    <tr>\n",
              "      <th>6</th>\n",
              "      <td>bienestar</td>\n",
              "      <td>6.30</td>\n",
              "    </tr>\n",
              "  </tbody>\n",
              "</table>\n",
              "</div>\n",
              "      <button class=\"colab-df-convert\" onclick=\"convertToInteractive('df-04c43bf3-eabb-47e9-92a1-8414fc39c91e')\"\n",
              "              title=\"Convert this dataframe to an interactive table.\"\n",
              "              style=\"display:none;\">\n",
              "        \n",
              "  <svg xmlns=\"http://www.w3.org/2000/svg\" height=\"24px\"viewBox=\"0 0 24 24\"\n",
              "       width=\"24px\">\n",
              "    <path d=\"M0 0h24v24H0V0z\" fill=\"none\"/>\n",
              "    <path d=\"M18.56 5.44l.94 2.06.94-2.06 2.06-.94-2.06-.94-.94-2.06-.94 2.06-2.06.94zm-11 1L8.5 8.5l.94-2.06 2.06-.94-2.06-.94L8.5 2.5l-.94 2.06-2.06.94zm10 10l.94 2.06.94-2.06 2.06-.94-2.06-.94-.94-2.06-.94 2.06-2.06.94z\"/><path d=\"M17.41 7.96l-1.37-1.37c-.4-.4-.92-.59-1.43-.59-.52 0-1.04.2-1.43.59L10.3 9.45l-7.72 7.72c-.78.78-.78 2.05 0 2.83L4 21.41c.39.39.9.59 1.41.59.51 0 1.02-.2 1.41-.59l7.78-7.78 2.81-2.81c.8-.78.8-2.07 0-2.86zM5.41 20L4 18.59l7.72-7.72 1.47 1.35L5.41 20z\"/>\n",
              "  </svg>\n",
              "      </button>\n",
              "      \n",
              "  <style>\n",
              "    .colab-df-container {\n",
              "      display:flex;\n",
              "      flex-wrap:wrap;\n",
              "      gap: 12px;\n",
              "    }\n",
              "\n",
              "    .colab-df-convert {\n",
              "      background-color: #E8F0FE;\n",
              "      border: none;\n",
              "      border-radius: 50%;\n",
              "      cursor: pointer;\n",
              "      display: none;\n",
              "      fill: #1967D2;\n",
              "      height: 32px;\n",
              "      padding: 0 0 0 0;\n",
              "      width: 32px;\n",
              "    }\n",
              "\n",
              "    .colab-df-convert:hover {\n",
              "      background-color: #E2EBFA;\n",
              "      box-shadow: 0px 1px 2px rgba(60, 64, 67, 0.3), 0px 1px 3px 1px rgba(60, 64, 67, 0.15);\n",
              "      fill: #174EA6;\n",
              "    }\n",
              "\n",
              "    [theme=dark] .colab-df-convert {\n",
              "      background-color: #3B4455;\n",
              "      fill: #D2E3FC;\n",
              "    }\n",
              "\n",
              "    [theme=dark] .colab-df-convert:hover {\n",
              "      background-color: #434B5C;\n",
              "      box-shadow: 0px 1px 3px 1px rgba(0, 0, 0, 0.15);\n",
              "      filter: drop-shadow(0px 1px 2px rgba(0, 0, 0, 0.3));\n",
              "      fill: #FFFFFF;\n",
              "    }\n",
              "  </style>\n",
              "\n",
              "      <script>\n",
              "        const buttonEl =\n",
              "          document.querySelector('#df-04c43bf3-eabb-47e9-92a1-8414fc39c91e button.colab-df-convert');\n",
              "        buttonEl.style.display =\n",
              "          google.colab.kernel.accessAllowed ? 'block' : 'none';\n",
              "\n",
              "        async function convertToInteractive(key) {\n",
              "          const element = document.querySelector('#df-04c43bf3-eabb-47e9-92a1-8414fc39c91e');\n",
              "          const dataTable =\n",
              "            await google.colab.kernel.invokeFunction('convertToInteractive',\n",
              "                                                     [key], {});\n",
              "          if (!dataTable) return;\n",
              "\n",
              "          const docLinkHtml = 'Like what you see? Visit the ' +\n",
              "            '<a target=\"_blank\" href=https://colab.research.google.com/notebooks/data_table.ipynb>data table notebook</a>'\n",
              "            + ' to learn more about interactive tables.';\n",
              "          element.innerHTML = '';\n",
              "          dataTable['output_type'] = 'display_data';\n",
              "          await google.colab.output.renderOutput(dataTable, element);\n",
              "          const docLink = document.createElement('div');\n",
              "          docLink.innerHTML = docLinkHtml;\n",
              "          element.appendChild(docLink);\n",
              "        }\n",
              "      </script>\n",
              "    </div>\n",
              "  </div>\n",
              "  "
            ]
          },
          "metadata": {},
          "execution_count": 15
        }
      ]
    },
    {
      "cell_type": "code",
      "source": [],
      "metadata": {
        "id": "VPAw7R6ytrUC"
      },
      "execution_count": null,
      "outputs": []
    }
  ]
}